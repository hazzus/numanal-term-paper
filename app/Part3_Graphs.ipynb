{
 "cells": [
  {
   "cell_type": "code",
   "execution_count": null,
   "metadata": {},
   "outputs": [],
   "source": [
    "import numpy as np\n",
    "import pandas as pd\n",
    "import matplotlib.pyplot as plt"
   ]
  },
  {
   "cell_type": "code",
   "execution_count": null,
   "metadata": {},
   "outputs": [],
   "source": [
    "import os\n",
    "\n",
    "def do_plot(y_name, legend_loc=4):\n",
    "    x_name = \"x^g\"\n",
    "    filename = f\"{y_name}_to_{x_name}\"\n",
    "    \n",
    "    with open(f\"part3Files/plots/firstCase/{filename}\", 'r') as file:\n",
    "        data1 = [map(float, line.split()) for line in file]\n",
    "        \n",
    "    with open(f\"part3Files/plots/secondCase/{filename}\", 'r') as file:\n",
    "        data2 = [map(float, line.split()) for line in file]\n",
    "        \n",
    "    fig, (ax1, ax2) = plt.subplots(ncols=2, sharex=True, sharey=True, figsize=(20, 9))\n",
    "    ax1.plot(*zip(*data1), linewidth=3, label=\"$P^g_{H2} = 0$\")\n",
    "    ax2.plot(*zip(*data2), linewidth=3, color='orange', label=\"$P^g_{H2} / P^g_{N2}$ = 0.1 / 0.9\")\n",
    "    \n",
    "    for ax in (ax1, ax2):\n",
    "        ax.legend(loc=legend_loc, prop={'size': 15})\n",
    "        ax.minorticks_on()\n",
    "        ax.grid(b=True, which=r'major', linestyle='-')\n",
    "        ax.grid(b=True, which=r'minor', linestyle='--')\n",
    "        ax.set_xlabel(\"$x^g$\", rotation=0, labelpad=20, fontsize=25)\n",
    "    \n",
    "    ax1.set_ylabel(f\"${y_name}$\", rotation=0, labelpad=40, fontsize=20)\n",
    "        \n",
    "    plt.savefig(f\"part3Files/plots/graph-{filename}.png\", dpi=500)\n",
    "    plt.show()"
   ]
  },
  {
   "cell_type": "code",
   "execution_count": null,
   "metadata": {},
   "outputs": [],
   "source": [
    "do_plot(\"G_{AlCl3}\")"
   ]
  },
  {
   "cell_type": "code",
   "execution_count": null,
   "metadata": {},
   "outputs": [],
   "source": [
    "do_plot(\"G_{GaCl}\", legend_loc=3)"
   ]
  },
  {
   "cell_type": "code",
   "execution_count": null,
   "metadata": {},
   "outputs": [],
   "source": [
    "do_plot(\"V^g_{AlGaN}\")"
   ]
  },
  {
   "cell_type": "code",
   "execution_count": null,
   "metadata": {},
   "outputs": [],
   "source": [
    "do_plot(\"x\")"
   ]
  }
 ],
 "metadata": {
  "kernelspec": {
   "display_name": "numanal-term-paper",
   "language": "python",
   "name": "numanal-term-paper"
  },
  "language_info": {
   "codemirror_mode": {
    "name": "ipython",
    "version": 3
   },
   "file_extension": ".py",
   "mimetype": "text/x-python",
   "name": "python",
   "nbconvert_exporter": "python",
   "pygments_lexer": "ipython3",
   "version": "3.8.3"
  }
 },
 "nbformat": 4,
 "nbformat_minor": 2
}
