{
 "cells": [
  {
   "cell_type": "code",
   "execution_count": null,
   "metadata": {},
   "outputs": [],
   "source": [
    "import numpy as np\n",
    "import pandas as pd\n",
    "import matplotlib.pyplot as plt"
   ]
  },
  {
   "cell_type": "markdown",
   "metadata": {},
   "source": [
    "# Part 1"
   ]
  },
  {
   "cell_type": "code",
   "execution_count": null,
   "metadata": {},
   "outputs": [],
   "source": [
    "temp = []\n",
    "al_cl = []\n",
    "al_cl_2 = []\n",
    "al_cl_3 = []\n",
    "volume = []\n",
    "\n",
    "with open('part1Res', 'r') as file:\n",
    "    for line in file.readlines():\n",
    "        t, _1, _2, _3, v = list(map(float, line.split()))\n",
    "        temp.append(t)\n",
    "        al_cl.append(_1)\n",
    "        al_cl_2.append(_2)\n",
    "        al_cl_3.append(_3)\n",
    "        volume.append(v)\n",
    "\n",
    "temp = np.array(temp)\n",
    "al_cl = np.array(al_cl)\n",
    "al_cl_2 = np.array(al_cl_2)\n",
    "al_cl_3 = np.array(al_cl_3)\n",
    "volume = np.array(volume)"
   ]
  },
  {
   "cell_type": "code",
   "execution_count": null,
   "metadata": {},
   "outputs": [],
   "source": [
    "fig, ax = plt.subplots(1, 1, figsize=(15, 8))\n",
    "\n",
    "ax.plot(1 / temp, np.log(np.abs(al_cl)), linewidth=3, label='$Ln(G_{AlCl})$')\n",
    "ax.plot(1 / temp, np.log(np.abs(al_cl_2)), linewidth=3, label='$Ln(G_{AlCl_2})$')\n",
    "ax.plot(1 / temp, np.log(np.abs(al_cl_3)), linewidth=3, label='$Ln(G_{AlCl_3})$')\n",
    "\n",
    "ax.set_xlabel('$\\\\frac{1}{Temp}$, $К^{-1}$', rotation=0, labelpad=20, fontsize=25)\n",
    "ax.set_ylabel('$Ln(G_{AlCl_{...}})$', rotation=0, labelpad=50, fontsize=20)\n",
    "\n",
    "ax.legend(loc=0, prop={'size': 15})\n",
    "\n",
    "ax.minorticks_on()\n",
    "ax.grid(b=True, which=r'major', linestyle='-')\n",
    "ax.grid(b=True, which=r'minor', linestyle='--')\n",
    "\n",
    "plt.savefig('graphPart1_1.png', dpi=200)\n",
    "plt.show()"
   ]
  },
  {
   "cell_type": "code",
   "execution_count": null,
   "metadata": {},
   "outputs": [],
   "source": [
    "fig, ax = plt.subplots(1, 1, figsize=(15, 8))\n",
    "\n",
    "ax.plot(1 / temp, np.log(np.abs(volume)), linewidth=3)\n",
    "\n",
    "ax.set_xlabel('$\\\\frac{1}{Temp}$, $К^{-1}$', rotation=0, labelpad=20, fontsize=25)\n",
    "ax.set_ylabel('$Ln(V^{e_{Al}})$', rotation=0, labelpad=50, fontsize=20)\n",
    "\n",
    "ax.minorticks_on()\n",
    "ax.grid(b=True, which=r'major', linestyle='-')\n",
    "ax.grid(b=True, which=r'minor', linestyle='--')\n",
    "\n",
    "plt.savefig('graphPart1_2.png', dpi=200)\n",
    "plt.show()"
   ]
  },
  {
   "cell_type": "markdown",
   "metadata": {},
   "source": [
    "# Part 2"
   ]
  },
  {
   "cell_type": "code",
   "execution_count": null,
   "metadata": {},
   "outputs": [],
   "source": [
    "temp = []\n",
    "ga_cl = []\n",
    "ga_cl_2 = []\n",
    "ga_cl_3 = []\n",
    "volume = []\n",
    "\n",
    "with open('part2Res', 'r') as file:\n",
    "    for line in file.readlines():\n",
    "        t, _1, _2, _3, v = list(map(float, line.split()))\n",
    "        temp.append(t)\n",
    "        ga_cl.append(_1)\n",
    "        ga_cl_2.append(_2)\n",
    "        ga_cl_3.append(_3)\n",
    "        volume.append(v)\n",
    "\n",
    "temp = np.array(temp)\n",
    "ga_cl = np.array(ga_cl)\n",
    "ga_cl_2 = np.array(ga_cl_2)\n",
    "ga_cl_3 = np.array(ga_cl_3)\n",
    "volume = np.array(volume)"
   ]
  },
  {
   "cell_type": "code",
   "execution_count": null,
   "metadata": {},
   "outputs": [],
   "source": [
    "fig, ax = plt.subplots(1, 1, figsize=(15, 8))\n",
    "\n",
    "ax.plot(1 / temp, np.log(np.abs(ga_cl)), linewidth=3, label='$Ln(G_{GaCl})$')\n",
    "ax.plot(1 / temp, np.log(np.abs(ga_cl_2)), linewidth=3, label='$Ln(G_{GaCl_2})$')\n",
    "ax.plot(1 / temp, np.log(np.abs(ga_cl_3)), linewidth=3, label='$Ln(G_{GaCl_3})$')\n",
    "\n",
    "ax.set_xlabel('$\\\\frac{1}{Temp}$, $К^{-1}$', rotation=0, labelpad=20, fontsize=25)\n",
    "ax.set_ylabel('$Ln(G_{GaCl_{...}})$', rotation=0, labelpad=50, fontsize=20)\n",
    "\n",
    "ax.legend(loc=4, prop={'size': 15})\n",
    "\n",
    "ax.minorticks_on()\n",
    "ax.grid(b=True, which=r'major', linestyle='-')\n",
    "ax.grid(b=True, which=r'minor', linestyle='--')\n",
    "\n",
    "plt.savefig('graphPart2_1.png', dpi=200)\n",
    "plt.show()"
   ]
  },
  {
   "cell_type": "code",
   "execution_count": null,
   "metadata": {},
   "outputs": [],
   "source": [
    "fig, ax = plt.subplots(1, 1, figsize=(15, 8))\n",
    "\n",
    "ax.plot(1 / temp, np.log(np.abs(volume)), linewidth=3)\n",
    "\n",
    "ax.set_xlabel('$\\\\frac{1}{Temp}$, $К^{-1}$', rotation=0, labelpad=20, fontsize=25)\n",
    "ax.set_ylabel('$Ln(V^{e_{Ga}})$', rotation=0, labelpad=50, fontsize=20)\n",
    "\n",
    "ax.minorticks_on()\n",
    "ax.grid(b=True, which=r'major', linestyle='-')\n",
    "ax.grid(b=True, which=r'minor', linestyle='--')\n",
    "\n",
    "plt.savefig('graphPart2_2.png', dpi=200)\n",
    "plt.show()"
   ]
  }
 ],
 "metadata": {
  "kernelspec": {
   "display_name": "numanal-term-paper",
   "language": "python",
   "name": "numanal-term-paper"
  },
  "language_info": {
   "codemirror_mode": {
    "name": "ipython",
    "version": 3
   },
   "file_extension": ".py",
   "mimetype": "text/x-python",
   "name": "python",
   "nbconvert_exporter": "python",
   "pygments_lexer": "ipython3",
   "version": "3.8.3"
  }
 },
 "nbformat": 4,
 "nbformat_minor": 2
}
